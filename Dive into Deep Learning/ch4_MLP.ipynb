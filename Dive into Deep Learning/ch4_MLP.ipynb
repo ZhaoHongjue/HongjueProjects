{
 "cells": [
  {
   "cell_type": "code",
   "execution_count": 1,
   "metadata": {},
   "outputs": [],
   "source": [
    "import numpy as np\n",
    "import utils\n",
    "\n",
    "import torch\n",
    "from torch import nn\n",
    "from torch.nn import functional as F"
   ]
  },
  {
   "cell_type": "markdown",
   "metadata": {},
   "source": [
    "hyperparameters"
   ]
  },
  {
   "cell_type": "code",
   "execution_count": 2,
   "metadata": {},
   "outputs": [],
   "source": [
    "epochs = 10\n",
    "batch_size = 64\n",
    "lr = 0.1\n",
    "resize = 28\n",
    "hidden_size = 128"
   ]
  },
  {
   "cell_type": "markdown",
   "metadata": {},
   "source": [
    "Load Fashion MNIST"
   ]
  },
  {
   "cell_type": "code",
   "execution_count": 3,
   "metadata": {},
   "outputs": [],
   "source": [
    "train_iter, test_iter = utils.load_fashion_mnist(batch_size, resize)"
   ]
  },
  {
   "cell_type": "markdown",
   "metadata": {},
   "source": [
    "### Implemention of MLP from Scratch"
   ]
  },
  {
   "cell_type": "markdown",
   "metadata": {},
   "source": [
    "Initialize Parameters"
   ]
  },
  {
   "cell_type": "code",
   "execution_count": 4,
   "metadata": {},
   "outputs": [],
   "source": [
    "num_in = resize * resize\n",
    "num_out = 10\n",
    "\n",
    "W_1 = torch.normal(0, 0.01, (num_in, hidden_size), requires_grad = True)\n",
    "W_2 = torch.normal(0, 0.01, (hidden_size, num_out), requires_grad = True)\n",
    "b_1 = torch.normal(0, 0.01, (hidden_size,), requires_grad = True)\n",
    "b_2 = torch.normal(0, 0.01, (num_out,), requires_grad = True)\n",
    "params = [W_1, W_2, b_1, b_2]"
   ]
  },
  {
   "cell_type": "markdown",
   "metadata": {},
   "source": [
    "Activation Function"
   ]
  },
  {
   "cell_type": "code",
   "execution_count": 5,
   "metadata": {},
   "outputs": [],
   "source": [
    "def ReLU(X):\n",
    "    a = torch.zeros_like(X)\n",
    "    return torch.max(X, a)"
   ]
  },
  {
   "cell_type": "markdown",
   "metadata": {},
   "source": [
    "Model"
   ]
  },
  {
   "cell_type": "code",
   "execution_count": 6,
   "metadata": {},
   "outputs": [],
   "source": [
    "def MLPReg(X, params, activation):\n",
    "    '''Implemention of MLP model from Scratch'''\n",
    "    W_1, W_2, b_1, b_2 = params\n",
    "    X = X.reshape(X.shape[0], -1)\n",
    "    H = activation(X @ W_1 + b_1)\n",
    "    return F.softmax(H @ W_2 + b_2, dim = 1)"
   ]
  },
  {
   "cell_type": "markdown",
   "metadata": {},
   "source": [
    "Train"
   ]
  },
  {
   "cell_type": "code",
   "execution_count": 7,
   "metadata": {},
   "outputs": [
    {
     "name": "stdout",
     "output_type": "stream",
     "text": [
      "epoch: 0, train loss: 2.021, train acc: 0.466, test loss: 1.829,test acc: 0.652\n",
      "epoch: 1, train loss: 1.785, train acc: 0.700, test loss: 1.761,test acc: 0.715\n",
      "epoch: 2, train loss: 1.747, train acc: 0.726, test loss: 1.743,test acc: 0.728\n",
      "epoch: 3, train loss: 1.735, train acc: 0.734, test loss: 1.736,test acc: 0.731\n",
      "epoch: 4, train loss: 1.729, train acc: 0.738, test loss: 1.730,test acc: 0.737\n",
      "epoch: 5, train loss: 1.725, train acc: 0.742, test loss: 1.730,test acc: 0.736\n",
      "epoch: 6, train loss: 1.722, train acc: 0.745, test loss: 1.725,test acc: 0.741\n",
      "epoch: 7, train loss: 1.719, train acc: 0.747, test loss: 1.723,test acc: 0.743\n",
      "epoch: 8, train loss: 1.717, train acc: 0.748, test loss: 1.721,test acc: 0.744\n",
      "epoch: 9, train loss: 1.715, train acc: 0.750, test loss: 1.720,test acc: 0.743\n"
     ]
    }
   ],
   "source": [
    "train_metric = utils.Accumulator(3)\n",
    "test_metric = utils.Accumulator(3)\n",
    "loss_fn = nn.CrossEntropyLoss()\n",
    "optimizer = torch.optim.SGD(params, lr)\n",
    "\n",
    "for epoch in range(epochs):\n",
    "    train_metric.reset()\n",
    "    test_metric.reset()\n",
    "    \n",
    "    for X, y in train_iter:\n",
    "        optimizer.zero_grad()\n",
    "        y_hat = MLPReg(X, params, ReLU)\n",
    "        loss = loss_fn(y_hat, y)\n",
    "        loss.backward()\n",
    "        optimizer.step()\n",
    "        # utils.SGD(params, lr)\n",
    "        train_metric.add(float(loss) * y.numel(), utils.accuracy(y_hat, y), y.numel())\n",
    "    \n",
    "    with torch.no_grad():\n",
    "        for X, y in test_iter:\n",
    "            y_hat = MLPReg(X, params, ReLU)\n",
    "            loss = loss_fn(y_hat, y)\n",
    "            acc = utils.accuracy(MLPReg(X, params, ReLU), y)\n",
    "            test_metric.add(float(loss) * y.numel(), acc, y.numel())\n",
    "    print('epoch: {}, train loss: {:.3f}, train acc: {:.3f}, test loss: {:.3f},test acc: {:.3f}'.format(\n",
    "        epoch, \n",
    "        train_metric[0] / train_metric[2], train_metric[1] / train_metric[2], \n",
    "        test_metric[0] / test_metric[2], test_metric[1] / test_metric[2]\n",
    "    ))"
   ]
  },
  {
   "cell_type": "markdown",
   "metadata": {},
   "source": [
    "### Concise Implemention of MLP"
   ]
  },
  {
   "cell_type": "code",
   "execution_count": 8,
   "metadata": {},
   "outputs": [
    {
     "name": "stdout",
     "output_type": "stream",
     "text": [
      "epoch: 0, train loss: 2.042, train acc: 0.438, test loss: 1.799,test acc: 0.680\n",
      "epoch: 1, train loss: 1.736, train acc: 0.752, test loss: 1.708,test acc: 0.770\n",
      "epoch: 2, train loss: 1.689, train acc: 0.786, test loss: 1.686,test acc: 0.787\n",
      "epoch: 3, train loss: 1.675, train acc: 0.797, test loss: 1.676,test acc: 0.794\n",
      "epoch: 4, train loss: 1.667, train acc: 0.802, test loss: 1.670,test acc: 0.801\n",
      "epoch: 5, train loss: 1.661, train acc: 0.806, test loss: 1.670,test acc: 0.798\n",
      "epoch: 6, train loss: 1.657, train acc: 0.810, test loss: 1.665,test acc: 0.801\n",
      "epoch: 7, train loss: 1.654, train acc: 0.813, test loss: 1.661,test acc: 0.806\n",
      "epoch: 8, train loss: 1.652, train acc: 0.815, test loss: 1.660,test acc: 0.805\n",
      "epoch: 9, train loss: 1.650, train acc: 0.817, test loss: 1.658,test acc: 0.808\n"
     ]
    }
   ],
   "source": [
    "num_in, num_out, hidden_size = resize * resize, 10, 64\n",
    "\n",
    "model = nn.Sequential(\n",
    "    nn.Linear(num_in, hidden_size), \n",
    "    nn.ReLU(),\n",
    "    nn.Linear(hidden_size, num_out), \n",
    "    nn.Softmax(dim = 1)\n",
    ")\n",
    "model.apply(utils.init_weights)\n",
    "loss_fn = nn.CrossEntropyLoss()\n",
    "optimizer = torch.optim.SGD(model.parameters(), lr)\n",
    "\n",
    "X = torch.randn((batch_size, 1, resize, resize))\n",
    "model(X.reshape(-1, num_in))\n",
    "\n",
    "train_metric = utils.Accumulator(3)\n",
    "test_metric = utils.Accumulator(3)\n",
    "\n",
    "for epoch in range(epochs):\n",
    "    train_metric.reset()\n",
    "    test_metric.reset()\n",
    "    \n",
    "    for X, y in train_iter:\n",
    "        optimizer.zero_grad()\n",
    "        y_hat = model(X.reshape(-1, num_in))\n",
    "        loss = loss_fn(y_hat, y)\n",
    "        loss.backward()\n",
    "        optimizer.step()\n",
    "        train_metric.add(float(loss) * y.numel(), utils.accuracy(y_hat, y), y.numel())\n",
    "    \n",
    "    with torch.no_grad():\n",
    "        for X, y in test_iter:\n",
    "            y_hat = model(X.reshape(-1, num_in))\n",
    "            loss = loss_fn(y_hat, y)\n",
    "            acc = utils.accuracy(y_hat, y)\n",
    "            test_metric.add(float(loss) * y.numel(), acc, y.numel())\n",
    "    print('epoch: {}, train loss: {:.3f}, train acc: {:.3f}, test loss: {:.3f},test acc: {:.3f}'.format(\n",
    "        epoch, \n",
    "        train_metric[0] / train_metric[2], train_metric[1] / train_metric[2], \n",
    "        test_metric[0] / test_metric[2], test_metric[1] / test_metric[2]\n",
    "    ))"
   ]
  }
 ],
 "metadata": {
  "interpreter": {
   "hash": "31f2aee4e71d21fbe5cf8b01ff0e069b9275f58929596ceb00d14d90e3e16cd6"
  },
  "kernelspec": {
   "display_name": "Python 3.8.10 64-bit",
   "language": "python",
   "name": "python3"
  },
  "language_info": {
   "codemirror_mode": {
    "name": "ipython",
    "version": 3
   },
   "file_extension": ".py",
   "mimetype": "text/x-python",
   "name": "python",
   "nbconvert_exporter": "python",
   "pygments_lexer": "ipython3",
   "version": "3.8.10"
  },
  "orig_nbformat": 4
 },
 "nbformat": 4,
 "nbformat_minor": 2
}
