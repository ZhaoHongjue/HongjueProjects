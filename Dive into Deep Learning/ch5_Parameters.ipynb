{
 "cells": [
  {
   "cell_type": "code",
   "execution_count": 1,
   "metadata": {},
   "outputs": [],
   "source": [
    "import torch\n",
    "from torch import nn \n",
    "\n",
    "import utils"
   ]
  },
  {
   "cell_type": "markdown",
   "metadata": {},
   "source": [
    "### Parameters Management"
   ]
  },
  {
   "cell_type": "code",
   "execution_count": 2,
   "metadata": {},
   "outputs": [],
   "source": [
    "net = nn.Sequential(nn.Linear(4, 8), nn.ReLU(), nn.Linear(8, 1))"
   ]
  },
  {
   "cell_type": "markdown",
   "metadata": {},
   "source": [
    "Access"
   ]
  },
  {
   "cell_type": "code",
   "execution_count": 3,
   "metadata": {},
   "outputs": [
    {
     "data": {
      "text/plain": [
       "OrderedDict([('0.weight',\n",
       "              tensor([[ 0.1654,  0.3714, -0.3347, -0.4746],\n",
       "                      [-0.1869, -0.1555,  0.3110, -0.3768],\n",
       "                      [ 0.4713,  0.0800, -0.4692,  0.3212],\n",
       "                      [-0.1601, -0.4167,  0.4114,  0.1254],\n",
       "                      [-0.2518, -0.0732,  0.2053,  0.3222],\n",
       "                      [ 0.2893,  0.3394, -0.0371, -0.2011],\n",
       "                      [-0.3940,  0.4577, -0.4176,  0.1692],\n",
       "                      [ 0.1137,  0.2418, -0.3441, -0.1119]])),\n",
       "             ('0.bias',\n",
       "              tensor([ 0.2088, -0.3896,  0.1596, -0.1241, -0.1361,  0.1408,  0.1640,  0.3152])),\n",
       "             ('2.weight',\n",
       "              tensor([[-0.2573,  0.0414,  0.0143, -0.1230, -0.1688,  0.1757, -0.1222, -0.1126]])),\n",
       "             ('2.bias', tensor([0.1169]))])"
      ]
     },
     "execution_count": 3,
     "metadata": {},
     "output_type": "execute_result"
    }
   ],
   "source": [
    "net.state_dict()"
   ]
  },
  {
   "cell_type": "code",
   "execution_count": 4,
   "metadata": {},
   "outputs": [
    {
     "data": {
      "text/plain": [
       "OrderedDict([('weight',\n",
       "              tensor([[ 0.1654,  0.3714, -0.3347, -0.4746],\n",
       "                      [-0.1869, -0.1555,  0.3110, -0.3768],\n",
       "                      [ 0.4713,  0.0800, -0.4692,  0.3212],\n",
       "                      [-0.1601, -0.4167,  0.4114,  0.1254],\n",
       "                      [-0.2518, -0.0732,  0.2053,  0.3222],\n",
       "                      [ 0.2893,  0.3394, -0.0371, -0.2011],\n",
       "                      [-0.3940,  0.4577, -0.4176,  0.1692],\n",
       "                      [ 0.1137,  0.2418, -0.3441, -0.1119]])),\n",
       "             ('bias',\n",
       "              tensor([ 0.2088, -0.3896,  0.1596, -0.1241, -0.1361,  0.1408,  0.1640,  0.3152]))])"
      ]
     },
     "execution_count": 4,
     "metadata": {},
     "output_type": "execute_result"
    }
   ],
   "source": [
    "net[0].state_dict()"
   ]
  },
  {
   "cell_type": "code",
   "execution_count": 5,
   "metadata": {},
   "outputs": [
    {
     "name": "stdout",
     "output_type": "stream",
     "text": [
      "<class 'torch.nn.parameter.Parameter'>\n",
      "Parameter containing:\n",
      "tensor([0.1169], requires_grad=True)\n",
      "tensor([0.1169])\n"
     ]
    }
   ],
   "source": [
    "print(type(net[2].bias))\n",
    "print(net[2].bias)\n",
    "print(net[2].bias.data)"
   ]
  },
  {
   "cell_type": "code",
   "execution_count": 6,
   "metadata": {},
   "outputs": [
    {
     "name": "stdout",
     "output_type": "stream",
     "text": [
      "('weight', torch.Size([8, 4])) ('bias', torch.Size([8]))\n",
      "('0.weight', torch.Size([8, 4])) ('0.bias', torch.Size([8])) ('2.weight', torch.Size([1, 8])) ('2.bias', torch.Size([1]))\n"
     ]
    }
   ],
   "source": [
    "print(*[(name, param.shape) for name, param in net[0].named_parameters()])\n",
    "print(*[(name, param.shape) for name, param in net.named_parameters()])"
   ]
  },
  {
   "cell_type": "markdown",
   "metadata": {},
   "source": [
    "Initialization"
   ]
  },
  {
   "cell_type": "code",
   "execution_count": 7,
   "metadata": {},
   "outputs": [
    {
     "data": {
      "text/plain": [
       "OrderedDict([('weight',\n",
       "              tensor([[ 2.2847e-03, -4.7551e-03,  6.5838e-04, -2.7397e-03],\n",
       "                      [-1.6923e-03,  5.9899e-03,  2.4863e-02, -3.0952e-03],\n",
       "                      [ 2.3483e-02, -1.4370e-03, -6.9487e-03, -1.9369e-02],\n",
       "                      [-9.4447e-03,  2.5753e-02, -1.2312e-02,  2.6325e-02],\n",
       "                      [-3.8687e-03, -3.0835e-03,  5.5181e-03,  9.4772e-03],\n",
       "                      [ 6.6182e-03,  4.5910e-05,  9.4138e-03,  2.0515e-03],\n",
       "                      [-1.3127e-02, -3.7509e-04,  9.1234e-03,  1.0550e-02],\n",
       "                      [-1.1195e-02,  4.1804e-03,  1.3402e-02, -1.5924e-03]])),\n",
       "             ('bias', tensor([0., 0., 0., 0., 0., 0., 0., 0.]))])"
      ]
     },
     "execution_count": 7,
     "metadata": {},
     "output_type": "execute_result"
    }
   ],
   "source": [
    "def init_normal(m):\n",
    "    if type(m) == nn.Linear:\n",
    "        nn.init.normal_(m.weight, mean = 0, std = 0.01)\n",
    "        nn.init.zeros_(m.bias)\n",
    "        \n",
    "net.apply(init_normal)\n",
    "net[0].state_dict()"
   ]
  },
  {
   "cell_type": "code",
   "execution_count": 8,
   "metadata": {},
   "outputs": [
    {
     "name": "stdout",
     "output_type": "stream",
     "text": [
      "tensor([-0.3107,  0.2346, -0.1663,  0.3566])\n",
      "tensor([[42., 42., 42., 42., 42., 42., 42., 42.]])\n"
     ]
    }
   ],
   "source": [
    "def xavier(m):\n",
    "    if type(m) == nn.Linear:\n",
    "        nn.init.xavier_uniform_(m.weight)\n",
    "def init_42(m):\n",
    "    if type(m) == nn.Linear:\n",
    "        nn.init.constant_(m.weight, 42)\n",
    "\n",
    "net[0].apply(xavier)\n",
    "net[2].apply(init_42)\n",
    "print(net[0].weight.data[0])\n",
    "print(net[2].weight.data)"
   ]
  },
  {
   "cell_type": "code",
   "execution_count": 9,
   "metadata": {},
   "outputs": [
    {
     "name": "stdout",
     "output_type": "stream",
     "text": [
      "Init weight torch.Size([8, 4])\n",
      "Init weight torch.Size([1, 8])\n"
     ]
    },
    {
     "data": {
      "text/plain": [
       "tensor([[-0.0000,  0.0000, -0.0000,  5.5290],\n",
       "        [-6.2070, -7.9787,  6.2097,  6.1233]], grad_fn=<SliceBackward0>)"
      ]
     },
     "execution_count": 9,
     "metadata": {},
     "output_type": "execute_result"
    }
   ],
   "source": [
    "def my_init(m):\n",
    "    if type(m) == nn.Linear:\n",
    "        print('Init', *[(name, param.shape) for name,param in m.named_parameters()][0])\n",
    "        nn.init.uniform_(m.weight, -10, 10)\n",
    "        m.weight.data *= m.weight.data.abs() >= 5\n",
    "        \n",
    "net.apply(my_init)\n",
    "net[0].weight[:2]"
   ]
  }
 ],
 "metadata": {
  "interpreter": {
   "hash": "31f2aee4e71d21fbe5cf8b01ff0e069b9275f58929596ceb00d14d90e3e16cd6"
  },
  "kernelspec": {
   "display_name": "Python 3.8.10 64-bit",
   "language": "python",
   "name": "python3"
  },
  "language_info": {
   "codemirror_mode": {
    "name": "ipython",
    "version": 3
   },
   "file_extension": ".py",
   "mimetype": "text/x-python",
   "name": "python",
   "nbconvert_exporter": "python",
   "pygments_lexer": "ipython3",
   "version": "3.8.10"
  },
  "orig_nbformat": 4
 },
 "nbformat": 4,
 "nbformat_minor": 2
}
