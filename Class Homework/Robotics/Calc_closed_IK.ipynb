{
 "cells": [
  {
   "cell_type": "code",
   "execution_count": 1,
   "metadata": {},
   "outputs": [],
   "source": [
    "import sympy\n",
    "from sympy import pi, cos, sin\n",
    "import numpy as np"
   ]
  },
  {
   "cell_type": "code",
   "execution_count": 2,
   "metadata": {},
   "outputs": [
    {
     "data": {
      "text/latex": [
       "$\\displaystyle \\left[\\begin{matrix}r_{11} & r_{12} & r_{13} & p_{x}\\\\r_{21} & r_{22} & r_{23} & p_{y}\\\\r_{31} & r_{32} & r_{33} & p_{z}\\\\0 & 0 & 0 & 1\\end{matrix}\\right]$"
      ],
      "text/plain": [
       "Matrix([\n",
       "[r_11, r_12, r_13, p_x],\n",
       "[r_21, r_22, r_23, p_y],\n",
       "[r_31, r_32, r_33, p_z],\n",
       "[   0,    0,    0,   1]])"
      ]
     },
     "execution_count": 2,
     "metadata": {},
     "output_type": "execute_result"
    }
   ],
   "source": [
    "theta = sympy.symbols('theta_1:7')\n",
    "\n",
    "DH = [[0,      0,      0.23,   theta[0]        ],\n",
    "      [0,      -pi/2,  -0.054, -pi/2 + theta[1]],\n",
    "      [0.185,  0,      0,      theta[2]        ],\n",
    "      [0.170,  0,      0.077,  pi/2 + theta[3] ],\n",
    "      [0,      pi/2,   0.077,  pi/2 + theta[4] ],\n",
    "      [0,      pi/2,   0,      theta[5]        ],\n",
    "      [0,      0,      0.0855, 0               ]\n",
    "    ]\n",
    "\n",
    "px, py, pz = sympy.symbols('p_x'), sympy.symbols('p_y'), sympy.symbols('p_z')\n",
    "R1, R2, R3 = sympy.symbols('r_11:14'), sympy.symbols('r_21:24'), sympy.symbols('r_31:34')\n",
    "T_final = sympy.Matrix([[R1[0], R1[1], R1[2], px],\n",
    "                        [R2[0], R2[1], R2[2], py],\n",
    "                        [R3[0], R3[1], R3[2], pz],\n",
    "                        [0, 0, 0, 1]])\n",
    "T_final"
   ]
  },
  {
   "cell_type": "code",
   "execution_count": 3,
   "metadata": {},
   "outputs": [],
   "source": [
    "def Single_T(DH):\n",
    "    a, alpha, d, theta = DH\n",
    "    return sympy.Matrix([[cos(theta), -sin(theta), 0, a],\n",
    "                         [sin(theta)*cos(alpha), cos(theta)*cos(alpha), -sin(alpha), -d*sin(alpha)],\n",
    "                         [sin(theta)*sin(alpha), cos(theta)*sin(alpha), cos(alpha), d*cos(alpha)],\n",
    "                         [0, 0, 0, 1]])"
   ]
  },
  {
   "cell_type": "code",
   "execution_count": 4,
   "metadata": {},
   "outputs": [
    {
     "data": {
      "text/latex": [
       "$\\displaystyle \\left[\\begin{matrix}\\cos{\\left(\\theta_{1} \\right)} & \\sin{\\left(\\theta_{1} \\right)} & 0 & 0\\\\- \\sin{\\left(\\theta_{1} \\right)} & \\cos{\\left(\\theta_{1} \\right)} & 0 & 0\\\\0 & 0 & 1 & -0.23\\\\0 & 0 & 0 & 1\\end{matrix}\\right]$"
      ],
      "text/plain": [
       "Matrix([\n",
       "[ cos(theta_1), sin(theta_1), 0,     0],\n",
       "[-sin(theta_1), cos(theta_1), 0,     0],\n",
       "[            0,            0, 1, -0.23],\n",
       "[            0,            0, 0,     1]])"
      ]
     },
     "execution_count": 4,
     "metadata": {},
     "output_type": "execute_result"
    }
   ],
   "source": [
    "T01 = Single_T(DH[0])\n",
    "T01_inv = sympy.simplify(T01.inv())\n",
    "T01_inv"
   ]
  },
  {
   "cell_type": "code",
   "execution_count": 5,
   "metadata": {},
   "outputs": [
    {
     "data": {
      "text/latex": [
       "$\\displaystyle \\left[\\begin{matrix}1 & 0 & 0 & 0\\\\0 & 1 & 0 & 0\\\\0 & 0 & 1 & -0.0855\\\\0 & 0 & 0 & 1\\end{matrix}\\right]$"
      ],
      "text/plain": [
       "Matrix([\n",
       "[1, 0, 0,       0],\n",
       "[0, 1, 0,       0],\n",
       "[0, 0, 1, -0.0855],\n",
       "[0, 0, 0,       1]])"
      ]
     },
     "execution_count": 5,
     "metadata": {},
     "output_type": "execute_result"
    }
   ],
   "source": [
    "T67 = Single_T(DH[-1])\n",
    "T67_inv = sympy.simplify(T67.inv())\n",
    "T67_inv"
   ]
  },
  {
   "cell_type": "code",
   "execution_count": 6,
   "metadata": {},
   "outputs": [
    {
     "data": {
      "text/latex": [
       "$\\displaystyle \\left[\\begin{matrix}r_{11} \\cos{\\left(\\theta_{1} \\right)} + r_{21} \\sin{\\left(\\theta_{1} \\right)} & r_{12} \\cos{\\left(\\theta_{1} \\right)} + r_{22} \\sin{\\left(\\theta_{1} \\right)} & r_{13} \\cos{\\left(\\theta_{1} \\right)} + r_{23} \\sin{\\left(\\theta_{1} \\right)} & p_{x} \\cos{\\left(\\theta_{1} \\right)} + p_{y} \\sin{\\left(\\theta_{1} \\right)} - 0.0855 r_{13} \\cos{\\left(\\theta_{1} \\right)} - 0.0855 r_{23} \\sin{\\left(\\theta_{1} \\right)}\\\\- r_{11} \\sin{\\left(\\theta_{1} \\right)} + r_{21} \\cos{\\left(\\theta_{1} \\right)} & - r_{12} \\sin{\\left(\\theta_{1} \\right)} + r_{22} \\cos{\\left(\\theta_{1} \\right)} & - r_{13} \\sin{\\left(\\theta_{1} \\right)} + r_{23} \\cos{\\left(\\theta_{1} \\right)} & - p_{x} \\sin{\\left(\\theta_{1} \\right)} + p_{y} \\cos{\\left(\\theta_{1} \\right)} + 0.0855 r_{13} \\sin{\\left(\\theta_{1} \\right)} - 0.0855 r_{23} \\cos{\\left(\\theta_{1} \\right)}\\\\r_{31} & r_{32} & r_{33} & p_{z} - 0.0855 r_{33} - 0.23\\\\0 & 0 & 0 & 1\\end{matrix}\\right]$"
      ],
      "text/plain": [
       "Matrix([\n",
       "[ r_11*cos(theta_1) + r_21*sin(theta_1),  r_12*cos(theta_1) + r_22*sin(theta_1),  r_13*cos(theta_1) + r_23*sin(theta_1),  p_x*cos(theta_1) + p_y*sin(theta_1) - 0.0855*r_13*cos(theta_1) - 0.0855*r_23*sin(theta_1)],\n",
       "[-r_11*sin(theta_1) + r_21*cos(theta_1), -r_12*sin(theta_1) + r_22*cos(theta_1), -r_13*sin(theta_1) + r_23*cos(theta_1), -p_x*sin(theta_1) + p_y*cos(theta_1) + 0.0855*r_13*sin(theta_1) - 0.0855*r_23*cos(theta_1)],\n",
       "[                                  r_31,                                   r_32,                                   r_33,                                                                   p_z - 0.0855*r_33 - 0.23],\n",
       "[                                     0,                                      0,                                      0,                                                                                          1]])"
      ]
     },
     "execution_count": 6,
     "metadata": {},
     "output_type": "execute_result"
    }
   ],
   "source": [
    "Left = sympy.simplify(T01_inv @ T_final @ T67_inv)\n",
    "Left"
   ]
  },
  {
   "cell_type": "code",
   "execution_count": 7,
   "metadata": {},
   "outputs": [
    {
     "data": {
      "text/latex": [
       "$\\displaystyle \\left[\\begin{matrix}- \\sin{\\left(\\theta_{5} \\right)} \\cos{\\left(\\theta_{6} \\right)} \\cos{\\left(\\theta_{2} + \\theta_{3} + \\theta_{4} \\right)} + \\sin{\\left(\\theta_{6} \\right)} \\sin{\\left(\\theta_{2} + \\theta_{3} + \\theta_{4} \\right)} & \\sin{\\left(\\theta_{5} \\right)} \\sin{\\left(\\theta_{6} \\right)} \\cos{\\left(\\theta_{2} + \\theta_{3} + \\theta_{4} \\right)} + \\sin{\\left(\\theta_{2} + \\theta_{3} + \\theta_{4} \\right)} \\cos{\\left(\\theta_{6} \\right)} & \\cos{\\left(\\theta_{5} \\right)} \\cos{\\left(\\theta_{2} + \\theta_{3} + \\theta_{4} \\right)} & 0.185 \\sin{\\left(\\theta_{2} \\right)} + 0.17 \\sin{\\left(\\theta_{2} + \\theta_{3} \\right)} + 0.077 \\sin{\\left(\\theta_{2} + \\theta_{3} + \\theta_{4} \\right)}\\\\\\cos{\\left(\\theta_{5} \\right)} \\cos{\\left(\\theta_{6} \\right)} & - \\sin{\\left(\\theta_{6} \\right)} \\cos{\\left(\\theta_{5} \\right)} & \\sin{\\left(\\theta_{5} \\right)} & 0.023\\\\\\sin{\\left(\\theta_{5} \\right)} \\sin{\\left(\\theta_{2} + \\theta_{3} + \\theta_{4} \\right)} \\cos{\\left(\\theta_{6} \\right)} + \\sin{\\left(\\theta_{6} \\right)} \\cos{\\left(\\theta_{2} + \\theta_{3} + \\theta_{4} \\right)} & - \\sin{\\left(\\theta_{5} \\right)} \\sin{\\left(\\theta_{6} \\right)} \\sin{\\left(\\theta_{2} + \\theta_{3} + \\theta_{4} \\right)} + \\cos{\\left(\\theta_{6} \\right)} \\cos{\\left(\\theta_{2} + \\theta_{3} + \\theta_{4} \\right)} & - \\sin{\\left(\\theta_{2} + \\theta_{3} + \\theta_{4} \\right)} \\cos{\\left(\\theta_{5} \\right)} & 0.185 \\cos{\\left(\\theta_{2} \\right)} + 0.17 \\cos{\\left(\\theta_{2} + \\theta_{3} \\right)} + 0.077 \\cos{\\left(\\theta_{2} + \\theta_{3} + \\theta_{4} \\right)}\\\\0 & 0 & 0 & 1\\end{matrix}\\right]$"
      ],
      "text/plain": [
       "Matrix([\n",
       "[-sin(theta_5)*cos(theta_6)*cos(theta_2 + theta_3 + theta_4) + sin(theta_6)*sin(theta_2 + theta_3 + theta_4),  sin(theta_5)*sin(theta_6)*cos(theta_2 + theta_3 + theta_4) + sin(theta_2 + theta_3 + theta_4)*cos(theta_6),  cos(theta_5)*cos(theta_2 + theta_3 + theta_4), 0.185*sin(theta_2) + 0.17*sin(theta_2 + theta_3) + 0.077*sin(theta_2 + theta_3 + theta_4)],\n",
       "[                                                                                  cos(theta_5)*cos(theta_6),                                                                                  -sin(theta_6)*cos(theta_5),                                   sin(theta_5),                                                                                     0.023],\n",
       "[ sin(theta_5)*sin(theta_2 + theta_3 + theta_4)*cos(theta_6) + sin(theta_6)*cos(theta_2 + theta_3 + theta_4), -sin(theta_5)*sin(theta_6)*sin(theta_2 + theta_3 + theta_4) + cos(theta_6)*cos(theta_2 + theta_3 + theta_4), -sin(theta_2 + theta_3 + theta_4)*cos(theta_5), 0.185*cos(theta_2) + 0.17*cos(theta_2 + theta_3) + 0.077*cos(theta_2 + theta_3 + theta_4)],\n",
       "[                                                                                                          0,                                                                                                           0,                                              0,                                                                                         1]])"
      ]
     },
     "execution_count": 7,
     "metadata": {},
     "output_type": "execute_result"
    }
   ],
   "source": [
    "T16 = sympy.eye(4)\n",
    "for i in range(1, 6):\n",
    "    T16 = T16 @ Single_T(DH[i])\n",
    "T16 = sympy.simplify(T16)\n",
    "T16"
   ]
  },
  {
   "cell_type": "code",
   "execution_count": 17,
   "metadata": {},
   "outputs": [
    {
     "data": {
      "text/plain": [
       "60.00000000000001"
      ]
     },
     "execution_count": 17,
     "metadata": {},
     "output_type": "execute_result"
    }
   ],
   "source": [
    "from math import acos\n",
    "\n",
    "acos(0.5)"
   ]
  }
 ],
 "metadata": {
  "interpreter": {
   "hash": "0a67b383376bbc3f268150e8a766376259116456469e7f7cea52e2e925b8a72d"
  },
  "kernelspec": {
   "display_name": "Python 3.10.4 64-bit",
   "language": "python",
   "name": "python3"
  },
  "language_info": {
   "codemirror_mode": {
    "name": "ipython",
    "version": 3
   },
   "file_extension": ".py",
   "mimetype": "text/x-python",
   "name": "python",
   "nbconvert_exporter": "python",
   "pygments_lexer": "ipython3",
   "version": "3.10.4"
  },
  "orig_nbformat": 4
 },
 "nbformat": 4,
 "nbformat_minor": 2
}
